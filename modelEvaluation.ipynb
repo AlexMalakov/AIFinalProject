{
 "cells": [
  {
   "cell_type": "markdown",
   "id": "2d6d5297",
   "metadata": {},
   "source": [
    "# Model Performance:\n",
    "\n",
    "After running the LSTM model, I recorded several metrics, which I will graph in relation to the batch number below."
   ]
  },
  {
   "cell_type": "code",
   "execution_count": null,
   "id": "33fcbaff",
   "metadata": {},
   "outputs": [],
   "source": [
    "import pandas as pd\n",
    "import numpy as np\n",
    "from matplotlib import pyplot as plt"
   ]
  },
  {
   "cell_type": "code",
   "execution_count": null,
   "id": "aadd25ca",
   "metadata": {},
   "outputs": [],
   "source": [
    "#preparing metrics data to be graphed\n",
    "logCSV = pd.read_csv(\"data/batchLog.csv\")\n",
    "log = logCSV.to_numpy()\n",
    "\n",
    "batchNum = log[:,0]\n",
    "binAcc = log[:,1]\n",
    "prec = log[:,2]\n",
    "recall = log[:,3]\n",
    "auc = log[:,4]"
   ]
  }
 ],
 "metadata": {
  "kernelspec": {
   "display_name": "Python 3 (ipykernel)",
   "language": "python",
   "name": "python3"
  },
  "language_info": {
   "codemirror_mode": {
    "name": "ipython",
    "version": 3
   },
   "file_extension": ".py",
   "mimetype": "text/x-python",
   "name": "python",
   "nbconvert_exporter": "python",
   "pygments_lexer": "ipython3",
   "version": "3.9.13"
  }
 },
 "nbformat": 4,
 "nbformat_minor": 5
}
